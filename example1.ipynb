"Hello Python"
print(__doc__)